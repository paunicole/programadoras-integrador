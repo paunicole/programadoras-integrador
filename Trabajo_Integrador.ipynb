{
  "cells": [
    {
      "cell_type": "markdown",
      "metadata": {
        "id": "view-in-github",
        "colab_type": "text"
      },
      "source": [
        "<a href=\"https://colab.research.google.com/github/paunicole/programadoras-integrador/blob/main/Trabajo_Integrador.ipynb\" target=\"_parent\"><img src=\"https://colab.research.google.com/assets/colab-badge.svg\" alt=\"Open In Colab\"/></a>"
      ]
    },
    {
      "cell_type": "markdown",
      "metadata": {
        "id": "G-qGPJXAhOtz"
      },
      "source": [
        "# **ACTIVIDAD FINAL OBLIGATORIA** 🎓👩 💻\n",
        "\n",
        "## **Estructuras de control. Diccionarios. Archivos JSON.**\n",
        "\n",
        "\n",
        "\n",
        "---\n",
        "\n",
        "\n",
        "\n",
        "## ⛄❄️ **¿A dónde voy en las vacaciones de invierno? Gratis...**\n",
        "\n",
        "Este proyecto consiste en permitir el registro y consulta de eventos gratuitos que se realicen dentro del territorio argentino.\n",
        "\n",
        "Está dirigido a dos tipos de usuarios.\n",
        "\n",
        "- Para aquellos que deseen dar a conocer un evento, indicando día, hora y lugar de realización, como así también el nombre y descripción del evento.\n",
        "\n",
        "- Para aquellos que deseen consultar la oferta de eventos en su municipio o un listado de eventos a realizarse en un periodo de tiempo.\n",
        "\n",
        "El programa iniciará ofreciendo un menú (Registro/Consulta).\n",
        "\n",
        "**Registro** solicitará los datos necesarios para generar un archivo JSON a partir del diseño de diccionarios con la siguiente forma:\n",
        "\n",
        "```\n",
        "{\n",
        "    \"nombre_evento\": \"Festival por aniversario del Club Atlético Libertad\",\n",
        "    \"descripcion\": \"Evento familiar con músicos locales\",\n",
        "    \"dia\": 12,\n",
        "    \"mes\": \"julio\",\n",
        "    \"hora\": 15,\n",
        "    \"provincia\": \"Salta\",\n",
        "    \"localidad\": \"Tartagal\",\n",
        "}\n",
        "```\n",
        "\n",
        "\n",
        "Los datos “provincia” y “localidad” deben ser extraídos de las correspondientes APIs. Es decir, debe mostrarse al usuario una lista de provincias y a partir de su elección, una lista de las localidades de esa provincia.\n",
        "\n",
        "**Consulta** ofrecerá otro menú (Eventos en mi localidad/Todos los eventos/Eventos entre dos fechas).\n",
        "\n",
        "Para “Eventos en mi localidad”, nuevamente accederemos a la información de las APIs para conocer provincia y localidad del usuario y luego buscaremos dentro del archivo JSON ya generado todos los eventos vinculados.\n",
        "\n",
        "Para “Todos los eventos” simplemente debemos listar completamente la información del archivo JSON generado.\n",
        "\n",
        "Para “Eventos entre dos fechas” solicitamos al usuario día y mes de inicio y día y mes de fin del intervalo que desea conocer y se realizará una búsqueda dentro del JSON creado que cumpla con los requisitos pedidos.\n",
        "\n",
        "Para realizar esta actividad contamos con las siguientes URLs\n",
        "\n",
        "https://apis.datos.gob.ar/georef/api/provincias?campos=id,nombre\n",
        "\n",
        "https://apis.datos.gob.ar/georef/api/municipios?provincia=22&campos=id,nombre&max=100\n",
        "\n",
        "**Se solicita que las estudiantes trabajen en parejas a través de sus cuentas GitHub, repartiendo las tareas equitativamente.**"
      ]
    },
    {
      "cell_type": "markdown",
      "metadata": {
        "id": "lnhySNaNmd_P"
      },
      "source": [
        "## 🤝 **Tareas Compartidas**\n",
        "\n",
        "**María Evangelina Dioli**\n",
        "- Crear menú inicial para registro y consultas, y el submenú exclusivo para consultas.\n",
        "- Obtener provincias a través de una API\n",
        "- Generar varios ejemplos de eventos para prueba y guardar archivo json\n",
        "- Enlistar consultas sobre eventos por localidades\n",
        "- Mostrar todos los eventos\n",
        "- Agregar docstrings\n",
        "\n",
        "\n",
        "**Paula Nicole Cardozo Gómez**\n",
        "- Crear un repositorio inicial en Github\n",
        "- Obtener localidades a través de una API\n",
        "- Registrar eventos y guardarlos en un archivo JSON\n",
        "- Generar consultas sobre eventos entre fechas\n",
        "- Mostrar los datos del evento\n",
        "- Agregar el archivo Readme al proyecto"
      ]
    },
    {
      "cell_type": "markdown",
      "source": [
        "## 📜 **Ejemplo de un listado de eventos en formato JSON**\n",
        "\n",
        "A continuación, se presenta un archivo en formato JSON que ha sido creado con fines de práctica. También tenes la opción de descargar el archivo `eventos.json` con el mismo contenido subido a este repositorio.\n",
        "\n",
        "\n",
        "```json\n",
        "[\n",
        "    {\n",
        "        \"nombre_evento\": \"Dia del Amigo\",\n",
        "        \"descripcion\": \"Sorteos y agasajo para amigos\",\n",
        "        \"dia\": 20,\n",
        "        \"mes\": \"julio\",\n",
        "        \"hora\": 15,\n",
        "        \"provincia\": \"Catamarca\",\n",
        "        \"localidad\": \"Santa María\"\n",
        "    },\n",
        "    {\n",
        "        \"nombre_evento\": \"Obra \\\"Felices los 4\\\"\",\n",
        "        \"descripcion\": \"Obra de teatro infantil\",\n",
        "        \"dia\": 27,\n",
        "        \"mes\": \"julio\",\n",
        "        \"hora\": 16,\n",
        "        \"provincia\": \"Córdoba\",\n",
        "        \"localidad\": \"Anisacate\"\n",
        "    },\n",
        "    {\n",
        "        \"nombre_evento\": \"Festival de la nieve\",\n",
        "        \"descripcion\": \"Musica en vivo y comida patagónica típica\",\n",
        "        \"dia\": 23,\n",
        "        \"mes\": \"julio\",\n",
        "        \"hora\": 12,\n",
        "        \"provincia\": \"Chubut\",\n",
        "        \"localidad\": \"Lago Puelo\"\n",
        "    }\n",
        "]\n",
        "```\n",
        "\n"
      ],
      "metadata": {
        "id": "SCrysDe8lto4"
      }
    },
    {
      "cell_type": "markdown",
      "source": [
        "## 💻 **Programa**"
      ],
      "metadata": {
        "id": "TrfyaDftEMmX"
      }
    },
    {
      "cell_type": "code",
      "execution_count": null,
      "metadata": {
        "id": "j7DkgsapnHAk"
      },
      "outputs": [],
      "source": []
    }
  ],
  "metadata": {
    "colab": {
      "provenance": [],
      "include_colab_link": true
    },
    "kernelspec": {
      "display_name": "Python 3",
      "name": "python3"
    },
    "language_info": {
      "name": "python"
    }
  },
  "nbformat": 4,
  "nbformat_minor": 0
}